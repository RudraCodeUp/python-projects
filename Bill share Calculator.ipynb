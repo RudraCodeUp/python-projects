{
 "cells": [
  {
   "cell_type": "code",
   "execution_count": 1,
   "id": "257ea704",
   "metadata": {},
   "outputs": [
    {
     "name": "stdout",
     "output_type": "stream",
     "text": [
      "WELCOME TO THE BILL SHARE CALCULATOR \n",
      "enter your total bill amount5000\n",
      "What percentage would you like to give? 10,12 or 1510\n",
      "How many people to split the bill?10\n",
      "each person pay 550.0\n"
     ]
    }
   ],
   "source": [
    "print(\"WELCOME TO THE BILL SHARE CALCULATOR \")\n",
    "x=float(input(\"enter your total bill amount\"))\n",
    "y=round(x,2)\n",
    "z=int(input(\"What percentage would you like to give? 10,12 or 15\"))\n",
    "u=int(input(\"How many people to split the bill?\"))\n",
    "bill=(y*(z/100))+y\n",
    "person=round((bill/u),2)\n",
    "print(\"each person pay\",person)\n",
    "\n",
    "\n"
   ]
  },
  {
   "cell_type": "code",
   "execution_count": null,
   "id": "ab2ac3bc",
   "metadata": {},
   "outputs": [],
   "source": []
  }
 ],
 "metadata": {
  "kernelspec": {
   "display_name": "Python 3 (ipykernel)",
   "language": "python",
   "name": "python3"
  },
  "language_info": {
   "codemirror_mode": {
    "name": "ipython",
    "version": 3
   },
   "file_extension": ".py",
   "mimetype": "text/x-python",
   "name": "python",
   "nbconvert_exporter": "python",
   "pygments_lexer": "ipython3",
   "version": "3.11.4"
  }
 },
 "nbformat": 4,
 "nbformat_minor": 5
}
