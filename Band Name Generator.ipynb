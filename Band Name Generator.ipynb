{
 "cells": [
  {
   "cell_type": "code",
   "execution_count": 17,
   "id": "4e617df2",
   "metadata": {},
   "outputs": [
    {
     "name": "stdout",
     "output_type": "stream",
     "text": [
      "Welcome To The Band Name Generator\n",
      "enter name of your city\n",
      "Chandigarh\n",
      "enter name of your favourite music instrument\n",
      "Guitar\n",
      "enter name of your petKO\n",
      "Name of your Band could beChandigarh KO Guitar\n"
     ]
    }
   ],
   "source": [
    "print(\"Welcome To The Band Name Generator\")\n",
    "x=input(\"enter name of your city\\n\")\n",
    "y=input(\"enter name of your favourite music instrument\\n\")\n",
    "z=input(\"enter name of your pet\")\n",
    "print(\"Name of your Band could be \" + x + \" \" + z + \" \"+y)"
   ]
  },
  {
   "cell_type": "code",
   "execution_count": null,
   "id": "a42813c9",
   "metadata": {},
   "outputs": [],
   "source": []
  },
  {
   "cell_type": "code",
   "execution_count": null,
   "id": "c21d1fd8",
   "metadata": {},
   "outputs": [],
   "source": []
  },
  {
   "cell_type": "code",
   "execution_count": null,
   "id": "c3496c30",
   "metadata": {},
   "outputs": [],
   "source": []
  }
 ],
 "metadata": {
  "kernelspec": {
   "display_name": "Python 3 (ipykernel)",
   "language": "python",
   "name": "python3"
  },
  "language_info": {
   "codemirror_mode": {
    "name": "ipython",
    "version": 3
   },
   "file_extension": ".py",
   "mimetype": "text/x-python",
   "name": "python",
   "nbconvert_exporter": "python",
   "pygments_lexer": "ipython3",
   "version": "3.11.4"
  }
 },
 "nbformat": 4,
 "nbformat_minor": 5
}
